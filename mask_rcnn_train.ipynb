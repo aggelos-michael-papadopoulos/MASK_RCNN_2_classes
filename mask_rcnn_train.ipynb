{
  "nbformat": 4,
  "nbformat_minor": 0,
  "metadata": {
    "colab": {
      "name": "mask_rcnn_train.ipynb",
      "provenance": [],
      "collapsed_sections": []
    },
    "kernelspec": {
      "name": "python3",
      "display_name": "Python 3"
    },
    "language_info": {
      "name": "python"
    },
    "accelerator": "GPU"
  },
  "cells": [
    {
      "cell_type": "code",
      "source": [
        "%tensorflow_version 1.x"
      ],
      "metadata": {
        "id": "mW52r--rSZXi",
        "colab": {
          "base_uri": "https://localhost:8080/"
        },
        "outputId": "082a082a-3e16-4c6a-d643-18990ce802bc"
      },
      "execution_count": 1,
      "outputs": [
        {
          "output_type": "stream",
          "name": "stdout",
          "text": [
            "TensorFlow 1.x selected.\n"
          ]
        }
      ]
    },
    {
      "cell_type": "code",
      "source": [
        "import keras\n"
      ],
      "metadata": {
        "id": "43UKLzGCSeuR",
        "colab": {
          "base_uri": "https://localhost:8080/"
        },
        "outputId": "2e0be46c-da5d-479f-8476-d7cc6113af73"
      },
      "execution_count": 2,
      "outputs": [
        {
          "output_type": "stream",
          "name": "stderr",
          "text": [
            "Using TensorFlow backend.\n"
          ]
        }
      ]
    },
    {
      "cell_type": "code",
      "source": [
        "import tensorflow\n",
        "print(tensorflow.__version__)\n",
        "print(keras.__version__)"
      ],
      "metadata": {
        "colab": {
          "base_uri": "https://localhost:8080/"
        },
        "id": "mKdYbmB3Rx4i",
        "outputId": "b376565b-9b2f-45b0-89c2-505b2ca7b3a6"
      },
      "execution_count": 3,
      "outputs": [
        {
          "output_type": "stream",
          "name": "stdout",
          "text": [
            "1.15.2\n",
            "2.3.1\n"
          ]
        }
      ]
    },
    {
      "cell_type": "code",
      "execution_count": null,
      "metadata": {
        "colab": {
          "base_uri": "https://localhost:8080/"
        },
        "id": "86_GNxyjQNR4",
        "outputId": "cc698b77-1ef0-4127-92d4-f2614e987726"
      },
      "outputs": [
        {
          "output_type": "stream",
          "name": "stdout",
          "text": [
            "Drive already mounted at /content/drive; to attempt to forcibly remount, call drive.mount(\"/content/drive\", force_remount=True).\n"
          ]
        }
      ],
      "source": [
        "from google.colab import drive\n",
        "drive.mount('/content/drive')"
      ]
    },
    {
      "cell_type": "code",
      "source": [
        "!pip install 'h5py<3.0.0'\n"
      ],
      "metadata": {
        "colab": {
          "base_uri": "https://localhost:8080/"
        },
        "id": "BuA7qCFpuTjZ",
        "outputId": "57b3c640-8b3f-4550-dc66-9a66b7a85abd"
      },
      "execution_count": null,
      "outputs": [
        {
          "output_type": "stream",
          "name": "stdout",
          "text": [
            "Requirement already satisfied: h5py<3.0.0 in /usr/local/lib/python3.7/dist-packages (2.10.0)\n",
            "Requirement already satisfied: six in /usr/local/lib/python3.7/dist-packages (from h5py<3.0.0) (1.15.0)\n",
            "Requirement already satisfied: numpy>=1.7 in /usr/local/lib/python3.7/dist-packages (from h5py<3.0.0) (1.21.5)\n"
          ]
        }
      ]
    },
    {
      "cell_type": "code",
      "source": [
        "!pip uninstall scikit-image"
      ],
      "metadata": {
        "colab": {
          "base_uri": "https://localhost:8080/"
        },
        "id": "nLsSXLruMrlX",
        "outputId": "6221804a-5d6d-4d2a-f65b-66cbdcc9dd2b"
      },
      "execution_count": null,
      "outputs": [
        {
          "output_type": "stream",
          "name": "stdout",
          "text": [
            "Found existing installation: scikit-image 0.18.3\n",
            "Uninstalling scikit-image-0.18.3:\n",
            "  Would remove:\n",
            "    /usr/local/bin/skivi\n",
            "    /usr/local/lib/python3.7/dist-packages/scikit_image-0.18.3.dist-info/*\n",
            "    /usr/local/lib/python3.7/dist-packages/scikit_image.libs/libgomp-3300acd3.so.1.0.0\n",
            "    /usr/local/lib/python3.7/dist-packages/skimage/*\n",
            "Proceed (y/n)? y\n",
            "  Successfully uninstalled scikit-image-0.18.3\n"
          ]
        }
      ]
    },
    {
      "cell_type": "code",
      "source": [
        "!pip install scikit-image==0.16.2"
      ],
      "metadata": {
        "colab": {
          "base_uri": "https://localhost:8080/"
        },
        "id": "0iXg774VMtdO",
        "outputId": "71166898-487a-47a2-b543-58db21ab1148"
      },
      "execution_count": null,
      "outputs": [
        {
          "output_type": "stream",
          "name": "stdout",
          "text": [
            "Collecting scikit-image==0.16.2\n",
            "  Downloading scikit_image-0.16.2-cp37-cp37m-manylinux1_x86_64.whl (26.5 MB)\n",
            "\u001b[K     |████████████████████████████████| 26.5 MB 1.6 MB/s \n",
            "\u001b[?25hRequirement already satisfied: scipy>=0.19.0 in /usr/local/lib/python3.7/dist-packages (from scikit-image==0.16.2) (1.4.1)\n",
            "Requirement already satisfied: PyWavelets>=0.4.0 in /usr/local/lib/python3.7/dist-packages (from scikit-image==0.16.2) (1.3.0)\n",
            "Requirement already satisfied: imageio>=2.3.0 in /usr/local/lib/python3.7/dist-packages (from scikit-image==0.16.2) (2.4.1)\n",
            "Requirement already satisfied: matplotlib!=3.0.0,>=2.0.0 in /usr/local/lib/python3.7/dist-packages (from scikit-image==0.16.2) (3.2.2)\n",
            "Requirement already satisfied: networkx>=2.0 in /usr/local/lib/python3.7/dist-packages (from scikit-image==0.16.2) (2.6.3)\n",
            "Requirement already satisfied: pillow>=4.3.0 in /usr/local/lib/python3.7/dist-packages (from scikit-image==0.16.2) (7.1.2)\n",
            "Requirement already satisfied: numpy in /usr/local/lib/python3.7/dist-packages (from imageio>=2.3.0->scikit-image==0.16.2) (1.21.5)\n",
            "Requirement already satisfied: pyparsing!=2.0.4,!=2.1.2,!=2.1.6,>=2.0.1 in /usr/local/lib/python3.7/dist-packages (from matplotlib!=3.0.0,>=2.0.0->scikit-image==0.16.2) (3.0.7)\n",
            "Requirement already satisfied: cycler>=0.10 in /usr/local/lib/python3.7/dist-packages (from matplotlib!=3.0.0,>=2.0.0->scikit-image==0.16.2) (0.11.0)\n",
            "Requirement already satisfied: python-dateutil>=2.1 in /usr/local/lib/python3.7/dist-packages (from matplotlib!=3.0.0,>=2.0.0->scikit-image==0.16.2) (2.8.2)\n",
            "Requirement already satisfied: kiwisolver>=1.0.1 in /usr/local/lib/python3.7/dist-packages (from matplotlib!=3.0.0,>=2.0.0->scikit-image==0.16.2) (1.4.0)\n",
            "Requirement already satisfied: typing-extensions in /usr/local/lib/python3.7/dist-packages (from kiwisolver>=1.0.1->matplotlib!=3.0.0,>=2.0.0->scikit-image==0.16.2) (3.10.0.2)\n",
            "Requirement already satisfied: six>=1.5 in /usr/local/lib/python3.7/dist-packages (from python-dateutil>=2.1->matplotlib!=3.0.0,>=2.0.0->scikit-image==0.16.2) (1.15.0)\n",
            "Installing collected packages: scikit-image\n",
            "\u001b[31mERROR: pip's dependency resolver does not currently take into account all the packages that are installed. This behaviour is the source of the following dependency conflicts.\n",
            "albumentations 0.1.12 requires imgaug<0.2.7,>=0.2.5, but you have imgaug 0.2.9 which is incompatible.\u001b[0m\n",
            "Successfully installed scikit-image-0.16.2\n"
          ]
        }
      ]
    },
    {
      "cell_type": "code",
      "source": [
        "!python /content/drive/MyDrive/Colab_Notebooks/mask_r-cnn_project/custom.py"
      ],
      "metadata": {
        "colab": {
          "base_uri": "https://localhost:8080/"
        },
        "id": "WdRRX4yEQVZb",
        "outputId": "27233364-9daf-46ea-db71-bcc0551babce"
      },
      "execution_count": null,
      "outputs": [
        {
          "output_type": "stream",
          "name": "stdout",
          "text": [
            "Using TensorFlow backend.\n",
            "WARNING:tensorflow:From /tensorflow-1.15.2/python3.7/tensorflow_core/python/ops/resource_variable_ops.py:1630: calling BaseResourceVariable.__init__ (from tensorflow.python.ops.resource_variable_ops) with constraint is deprecated and will be removed in a future version.\n",
            "Instructions for updating:\n",
            "If using Keras pass *_constraint arguments to layers.\n",
            "WARNING:tensorflow:From /tensorflow-1.15.2/python3.7/keras/backend/tensorflow_backend.py:4070: The name tf.nn.max_pool is deprecated. Please use tf.nn.max_pool2d instead.\n",
            "\n",
            "WARNING:tensorflow:From /tensorflow-1.15.2/python3.7/tensorflow_core/python/ops/array_ops.py:1475: where (from tensorflow.python.ops.array_ops) is deprecated and will be removed in a future version.\n",
            "Instructions for updating:\n",
            "Use tf.where in 2.0, which has the same broadcast rule as np.where\n",
            "WARNING:tensorflow:From /content/drive/MyDrive/Colab_Notebooks/mask_r-cnn_project/mrcnn/model.py:553: The name tf.random_shuffle is deprecated. Please use tf.random.shuffle instead.\n",
            "\n",
            "WARNING:tensorflow:From /content/drive/MyDrive/Colab_Notebooks/mask_r-cnn_project/mrcnn/utils.py:202: The name tf.log is deprecated. Please use tf.math.log instead.\n",
            "\n",
            "WARNING:tensorflow:From /content/drive/MyDrive/Colab_Notebooks/mask_r-cnn_project/mrcnn/model.py:600: calling crop_and_resize_v1 (from tensorflow.python.ops.image_ops_impl) with box_ind is deprecated and will be removed in a future version.\n",
            "Instructions for updating:\n",
            "box_ind is deprecated, use box_indices instead\n",
            "2022-03-24 18:34:54.307541: I tensorflow/stream_executor/platform/default/dso_loader.cc:44] Successfully opened dynamic library libcuda.so.1\n",
            "2022-03-24 18:34:54.342112: I tensorflow/stream_executor/cuda/cuda_gpu_executor.cc:983] successful NUMA node read from SysFS had negative value (-1), but there must be at least one NUMA node, so returning NUMA node zero\n",
            "2022-03-24 18:34:54.342714: I tensorflow/core/common_runtime/gpu/gpu_device.cc:1639] Found device 0 with properties: \n",
            "name: Tesla T4 major: 7 minor: 5 memoryClockRate(GHz): 1.59\n",
            "pciBusID: 0000:00:04.0\n",
            "2022-03-24 18:34:54.343018: I tensorflow/stream_executor/platform/default/dso_loader.cc:44] Successfully opened dynamic library libcudart.so.10.1\n",
            "2022-03-24 18:34:54.347809: I tensorflow/stream_executor/platform/default/dso_loader.cc:44] Successfully opened dynamic library libcublas.so.10\n",
            "2022-03-24 18:34:54.348861: I tensorflow/stream_executor/platform/default/dso_loader.cc:44] Successfully opened dynamic library libcufft.so.10\n",
            "2022-03-24 18:34:54.349173: I tensorflow/stream_executor/platform/default/dso_loader.cc:44] Successfully opened dynamic library libcurand.so.10\n",
            "2022-03-24 18:34:54.353923: I tensorflow/stream_executor/platform/default/dso_loader.cc:44] Successfully opened dynamic library libcusolver.so.10\n",
            "2022-03-24 18:34:54.354838: I tensorflow/stream_executor/platform/default/dso_loader.cc:44] Successfully opened dynamic library libcusparse.so.10\n",
            "2022-03-24 18:34:54.363279: I tensorflow/stream_executor/platform/default/dso_loader.cc:44] Successfully opened dynamic library libcudnn.so.7\n",
            "2022-03-24 18:34:54.363394: I tensorflow/stream_executor/cuda/cuda_gpu_executor.cc:983] successful NUMA node read from SysFS had negative value (-1), but there must be at least one NUMA node, so returning NUMA node zero\n",
            "2022-03-24 18:34:54.363977: I tensorflow/stream_executor/cuda/cuda_gpu_executor.cc:983] successful NUMA node read from SysFS had negative value (-1), but there must be at least one NUMA node, so returning NUMA node zero\n",
            "2022-03-24 18:34:54.364489: I tensorflow/core/common_runtime/gpu/gpu_device.cc:1767] Adding visible gpu devices: 0\n",
            "2022-03-24 18:34:54.369674: I tensorflow/core/platform/profile_utils/cpu_utils.cc:94] CPU Frequency: 2299995000 Hz\n",
            "2022-03-24 18:34:54.369849: I tensorflow/compiler/xla/service/service.cc:168] XLA service 0x558afa315480 initialized for platform Host (this does not guarantee that XLA will be used). Devices:\n",
            "2022-03-24 18:34:54.369875: I tensorflow/compiler/xla/service/service.cc:176]   StreamExecutor device (0): Host, Default Version\n",
            "2022-03-24 18:34:54.559984: I tensorflow/stream_executor/cuda/cuda_gpu_executor.cc:983] successful NUMA node read from SysFS had negative value (-1), but there must be at least one NUMA node, so returning NUMA node zero\n",
            "2022-03-24 18:34:54.560746: I tensorflow/compiler/xla/service/service.cc:168] XLA service 0x558afa315640 initialized for platform CUDA (this does not guarantee that XLA will be used). Devices:\n",
            "2022-03-24 18:34:54.560778: I tensorflow/compiler/xla/service/service.cc:176]   StreamExecutor device (0): Tesla T4, Compute Capability 7.5\n",
            "2022-03-24 18:34:54.560955: I tensorflow/stream_executor/cuda/cuda_gpu_executor.cc:983] successful NUMA node read from SysFS had negative value (-1), but there must be at least one NUMA node, so returning NUMA node zero\n",
            "2022-03-24 18:34:54.561509: I tensorflow/core/common_runtime/gpu/gpu_device.cc:1639] Found device 0 with properties: \n",
            "name: Tesla T4 major: 7 minor: 5 memoryClockRate(GHz): 1.59\n",
            "pciBusID: 0000:00:04.0\n",
            "2022-03-24 18:34:54.561583: I tensorflow/stream_executor/platform/default/dso_loader.cc:44] Successfully opened dynamic library libcudart.so.10.1\n",
            "2022-03-24 18:34:54.561610: I tensorflow/stream_executor/platform/default/dso_loader.cc:44] Successfully opened dynamic library libcublas.so.10\n",
            "2022-03-24 18:34:54.561634: I tensorflow/stream_executor/platform/default/dso_loader.cc:44] Successfully opened dynamic library libcufft.so.10\n",
            "2022-03-24 18:34:54.561656: I tensorflow/stream_executor/platform/default/dso_loader.cc:44] Successfully opened dynamic library libcurand.so.10\n",
            "2022-03-24 18:34:54.561677: I tensorflow/stream_executor/platform/default/dso_loader.cc:44] Successfully opened dynamic library libcusolver.so.10\n",
            "2022-03-24 18:34:54.561697: I tensorflow/stream_executor/platform/default/dso_loader.cc:44] Successfully opened dynamic library libcusparse.so.10\n",
            "2022-03-24 18:34:54.561719: I tensorflow/stream_executor/platform/default/dso_loader.cc:44] Successfully opened dynamic library libcudnn.so.7\n",
            "2022-03-24 18:34:54.561793: I tensorflow/stream_executor/cuda/cuda_gpu_executor.cc:983] successful NUMA node read from SysFS had negative value (-1), but there must be at least one NUMA node, so returning NUMA node zero\n",
            "2022-03-24 18:34:54.562385: I tensorflow/stream_executor/cuda/cuda_gpu_executor.cc:983] successful NUMA node read from SysFS had negative value (-1), but there must be at least one NUMA node, so returning NUMA node zero\n",
            "2022-03-24 18:34:54.562878: I tensorflow/core/common_runtime/gpu/gpu_device.cc:1767] Adding visible gpu devices: 0\n",
            "2022-03-24 18:34:54.562955: I tensorflow/stream_executor/platform/default/dso_loader.cc:44] Successfully opened dynamic library libcudart.so.10.1\n",
            "2022-03-24 18:34:54.564131: I tensorflow/core/common_runtime/gpu/gpu_device.cc:1180] Device interconnect StreamExecutor with strength 1 edge matrix:\n",
            "2022-03-24 18:34:54.564158: I tensorflow/core/common_runtime/gpu/gpu_device.cc:1186]      0 \n",
            "2022-03-24 18:34:54.564171: I tensorflow/core/common_runtime/gpu/gpu_device.cc:1199] 0:   N \n",
            "2022-03-24 18:34:54.564309: I tensorflow/stream_executor/cuda/cuda_gpu_executor.cc:983] successful NUMA node read from SysFS had negative value (-1), but there must be at least one NUMA node, so returning NUMA node zero\n",
            "2022-03-24 18:34:54.564867: I tensorflow/stream_executor/cuda/cuda_gpu_executor.cc:983] successful NUMA node read from SysFS had negative value (-1), but there must be at least one NUMA node, so returning NUMA node zero\n",
            "2022-03-24 18:34:54.565399: W tensorflow/core/common_runtime/gpu/gpu_bfc_allocator.cc:39] Overriding allow_growth setting because the TF_FORCE_GPU_ALLOW_GROWTH environment variable is set. Original config value was 0.\n",
            "2022-03-24 18:34:54.565443: I tensorflow/core/common_runtime/gpu/gpu_device.cc:1325] Created TensorFlow device (/job:localhost/replica:0/task:0/device:GPU:0 with 14257 MB memory) -> physical GPU (device: 0, name: Tesla T4, pci bus id: 0000:00:04.0, compute capability: 7.5)\n",
            "objects: ['pen', 'pen', 'glass', 'glass']\n",
            "numids [2, 2, 1, 1]\n",
            "objects: ['pen', 'pen', 'glass', 'glass']\n",
            "numids [2, 2, 1, 1]\n",
            "objects: ['pen', 'glass', 'pen', 'glass']\n",
            "numids [2, 1, 2, 1]\n",
            "objects: ['pen', 'pen', 'glass', 'glass']\n",
            "numids [2, 2, 1, 1]\n",
            "objects: ['pen', 'pen', 'pen', 'glass', 'glass']\n",
            "numids [2, 2, 2, 1, 1]\n",
            "objects: ['pen', 'pen', 'pen', 'glass', 'glass']\n",
            "numids [2, 2, 2, 1, 1]\n",
            "objects: ['pen', 'pen', 'glass', 'glass']\n",
            "numids [2, 2, 1, 1]\n",
            "objects: ['pen', 'pen', 'glass', 'glass', 'glass']\n",
            "numids [2, 2, 1, 1, 1]\n",
            "objects: ['pen', 'pen', 'glass', 'glass']\n",
            "numids [2, 2, 1, 1]\n",
            "objects: ['pen', 'glass', 'glass', 'pen', 'pen']\n",
            "numids [2, 1, 1, 2, 2]\n",
            "objects: ['pen', 'pen', 'glass', 'glass']\n",
            "numids [2, 2, 1, 1]\n",
            "objects: ['pen', 'glass', 'pen', 'glass']\n",
            "numids [2, 1, 2, 1]\n",
            "objects: ['glass', 'pen', 'pen', 'glass', 'glass']\n",
            "numids [1, 2, 2, 1, 1]\n",
            "objects: ['pen', 'glass', 'pen', 'glass', 'pen', 'glass']\n",
            "numids [2, 1, 2, 1, 2, 1]\n",
            "objects: ['pen', 'glass', 'pen', 'glass', 'pen']\n",
            "numids [2, 1, 2, 1, 2]\n",
            "objects: ['glass', 'pen', 'pen', 'glass', 'pen', 'glass', 'glass']\n",
            "numids [1, 2, 2, 1, 2, 1, 1]\n",
            "objects: ['glass', 'glass', 'glass', 'pen', 'pen', 'pen', 'glass']\n",
            "numids [1, 1, 1, 2, 2, 2, 1]\n",
            "objects: ['pen', 'pen', 'glass', 'glass', 'pen']\n",
            "numids [2, 2, 1, 1, 2]\n",
            "objects: ['glass', 'glass', 'pen', 'pen', 'glass']\n",
            "numids [1, 1, 2, 2, 1]\n",
            "objects: ['glass', 'pen', 'glass', 'pen']\n",
            "numids [1, 2, 1, 2]\n",
            "objects: ['pen', 'pen', 'glass', 'glass']\n",
            "numids [2, 2, 1, 1]\n",
            "objects: ['pen', 'pen', 'glass', 'glass']\n",
            "numids [2, 2, 1, 1]\n",
            "objects: ['pen', 'glass', 'pen', 'glass']\n",
            "numids [2, 1, 2, 1]\n",
            "objects: ['pen', 'pen', 'glass', 'glass']\n",
            "numids [2, 2, 1, 1]\n",
            "objects: ['pen', 'pen', 'pen', 'glass', 'glass']\n",
            "numids [2, 2, 2, 1, 1]\n",
            "objects: ['pen', 'pen', 'pen', 'glass', 'glass']\n",
            "numids [2, 2, 2, 1, 1]\n",
            "objects: ['pen', 'pen', 'glass', 'glass']\n",
            "numids [2, 2, 1, 1]\n",
            "objects: ['pen', 'pen', 'glass', 'glass', 'glass']\n",
            "numids [2, 2, 1, 1, 1]\n",
            "objects: ['pen', 'pen', 'glass', 'glass']\n",
            "numids [2, 2, 1, 1]\n",
            "objects: ['pen', 'glass', 'glass', 'pen', 'pen']\n",
            "numids [2, 1, 1, 2, 2]\n",
            "objects: ['pen', 'pen', 'glass', 'glass']\n",
            "numids [2, 2, 1, 1]\n",
            "objects: ['pen', 'glass', 'pen', 'glass']\n",
            "numids [2, 1, 2, 1]\n",
            "objects: ['glass', 'pen', 'pen', 'glass', 'glass']\n",
            "numids [1, 2, 2, 1, 1]\n",
            "objects: ['pen', 'glass', 'pen', 'glass', 'pen', 'glass']\n",
            "numids [2, 1, 2, 1, 2, 1]\n",
            "objects: ['pen', 'glass', 'pen', 'glass', 'pen']\n",
            "numids [2, 1, 2, 1, 2]\n",
            "objects: ['glass', 'pen', 'pen', 'glass', 'pen', 'glass', 'glass']\n",
            "numids [1, 2, 2, 1, 2, 1, 1]\n",
            "objects: ['glass', 'glass', 'glass', 'pen', 'pen', 'pen', 'glass']\n",
            "numids [1, 1, 1, 2, 2, 2, 1]\n",
            "objects: ['pen', 'pen', 'glass', 'glass', 'pen']\n",
            "numids [2, 2, 1, 1, 2]\n",
            "objects: ['glass', 'glass', 'pen', 'pen', 'glass']\n",
            "numids [1, 1, 2, 2, 1]\n",
            "objects: ['glass', 'pen', 'glass', 'pen']\n",
            "numids [1, 2, 1, 2]\n",
            "Training network heads\n",
            "\n",
            "Starting at epoch 0. LR=0.001\n",
            "\n",
            "Checkpoint Path: /content/drive/MyDrive/Colab_Notebooks/mask_r-cnn_project/mrcnn/logs/object20220324T1834/mask_rcnn_object_{epoch:04d}.h5\n",
            "Selecting layers to train\n",
            "fpn_c5p5               (Conv2D)\n",
            "fpn_c4p4               (Conv2D)\n",
            "fpn_c3p3               (Conv2D)\n",
            "fpn_c2p2               (Conv2D)\n",
            "fpn_p5                 (Conv2D)\n",
            "fpn_p2                 (Conv2D)\n",
            "fpn_p3                 (Conv2D)\n",
            "fpn_p4                 (Conv2D)\n",
            "In model:  rpn_model\n",
            "    rpn_conv_shared        (Conv2D)\n",
            "    rpn_class_raw          (Conv2D)\n",
            "    rpn_bbox_pred          (Conv2D)\n",
            "mrcnn_mask_conv1       (TimeDistributed)\n",
            "mrcnn_mask_bn1         (TimeDistributed)\n",
            "mrcnn_mask_conv2       (TimeDistributed)\n",
            "mrcnn_mask_bn2         (TimeDistributed)\n",
            "mrcnn_class_conv1      (TimeDistributed)\n",
            "mrcnn_class_bn1        (TimeDistributed)\n",
            "mrcnn_mask_conv3       (TimeDistributed)\n",
            "mrcnn_mask_bn3         (TimeDistributed)\n",
            "mrcnn_class_conv2      (TimeDistributed)\n",
            "mrcnn_class_bn2        (TimeDistributed)\n",
            "mrcnn_mask_conv4       (TimeDistributed)\n",
            "mrcnn_mask_bn4         (TimeDistributed)\n",
            "mrcnn_bbox_fc          (TimeDistributed)\n",
            "mrcnn_mask_deconv      (TimeDistributed)\n",
            "mrcnn_class_logits     (TimeDistributed)\n",
            "mrcnn_mask             (TimeDistributed)\n",
            "/tensorflow-1.15.2/python3.7/tensorflow_core/python/framework/indexed_slices.py:424: UserWarning: Converting sparse IndexedSlices to a dense Tensor of unknown shape. This may consume a large amount of memory.\n",
            "  \"Converting sparse IndexedSlices to a dense Tensor of unknown shape. \"\n",
            "/tensorflow-1.15.2/python3.7/tensorflow_core/python/framework/indexed_slices.py:424: UserWarning: Converting sparse IndexedSlices to a dense Tensor of unknown shape. This may consume a large amount of memory.\n",
            "  \"Converting sparse IndexedSlices to a dense Tensor of unknown shape. \"\n",
            "/tensorflow-1.15.2/python3.7/tensorflow_core/python/framework/indexed_slices.py:424: UserWarning: Converting sparse IndexedSlices to a dense Tensor of unknown shape. This may consume a large amount of memory.\n",
            "  \"Converting sparse IndexedSlices to a dense Tensor of unknown shape. \"\n",
            "WARNING:tensorflow:From /tensorflow-1.15.2/python3.7/keras/backend/tensorflow_backend.py:422: The name tf.global_variables is deprecated. Please use tf.compat.v1.global_variables instead.\n",
            "\n",
            "WARNING:tensorflow:From /tensorflow-1.15.2/python3.7/keras/backend/tensorflow_backend.py:431: The name tf.is_variable_initialized is deprecated. Please use tf.compat.v1.is_variable_initialized instead.\n",
            "\n",
            "WARNING:tensorflow:From /tensorflow-1.15.2/python3.7/keras/backend/tensorflow_backend.py:438: The name tf.variables_initializer is deprecated. Please use tf.compat.v1.variables_initializer instead.\n",
            "\n",
            "/tensorflow-1.15.2/python3.7/keras/engine/training_generator.py:49: UserWarning: Using a generator with `use_multiprocessing=True` and multiple workers may duplicate your data. Please consider using the `keras.utils.Sequence class.\n",
            "  UserWarning('Using a generator with `use_multiprocessing=True`'\n",
            "WARNING:tensorflow:From /tensorflow-1.15.2/python3.7/keras/callbacks/tensorboard_v1.py:200: The name tf.summary.merge_all is deprecated. Please use tf.compat.v1.summary.merge_all instead.\n",
            "\n",
            "WARNING:tensorflow:From /tensorflow-1.15.2/python3.7/keras/callbacks/tensorboard_v1.py:203: The name tf.summary.FileWriter is deprecated. Please use tf.compat.v1.summary.FileWriter instead.\n",
            "\n",
            "Epoch 1/20\n",
            "2022-03-24 18:36:24.698447: I tensorflow/stream_executor/platform/default/dso_loader.cc:44] Successfully opened dynamic library libcublas.so.10\n",
            "2022-03-24 18:36:25.637157: I tensorflow/stream_executor/platform/default/dso_loader.cc:44] Successfully opened dynamic library libcudnn.so.7\n",
            "10/10 [==============================] - 166s 17s/step - loss: 2.6790 - rpn_class_loss: 0.0998 - rpn_bbox_loss: 0.2406 - mrcnn_class_loss: 0.4910 - mrcnn_bbox_loss: 0.8531 - mrcnn_mask_loss: 0.9945 - val_loss: 1.4328 - val_rpn_class_loss: 0.0469 - val_rpn_bbox_loss: 0.1670 - val_mrcnn_class_loss: 0.2026 - val_mrcnn_bbox_loss: 0.5527 - val_mrcnn_mask_loss: 0.5491\n",
            "WARNING:tensorflow:From /tensorflow-1.15.2/python3.7/keras/callbacks/tensorboard_v1.py:343: The name tf.Summary is deprecated. Please use tf.compat.v1.Summary instead.\n",
            "\n",
            "Epoch 2/20\n",
            "10/10 [==============================] - 35s 3s/step - loss: 1.2049 - rpn_class_loss: 0.0385 - rpn_bbox_loss: 0.1993 - mrcnn_class_loss: 0.1015 - mrcnn_bbox_loss: 0.4667 - mrcnn_mask_loss: 0.3988 - val_loss: 0.6510 - val_rpn_class_loss: 0.0224 - val_rpn_bbox_loss: 0.1179 - val_mrcnn_class_loss: 0.0921 - val_mrcnn_bbox_loss: 0.3621 - val_mrcnn_mask_loss: 0.2808\n",
            "Epoch 3/20\n",
            "10/10 [==============================] - 126s 13s/step - loss: 0.6712 - rpn_class_loss: 0.0132 - rpn_bbox_loss: 0.0699 - mrcnn_class_loss: 0.0971 - mrcnn_bbox_loss: 0.2759 - mrcnn_mask_loss: 0.2151 - val_loss: 0.5647 - val_rpn_class_loss: 0.0171 - val_rpn_bbox_loss: 0.1233 - val_mrcnn_class_loss: 0.0757 - val_mrcnn_bbox_loss: 0.2542 - val_mrcnn_mask_loss: 0.1725\n",
            "Epoch 4/20\n",
            "10/10 [==============================] - 122s 12s/step - loss: 0.6877 - rpn_class_loss: 0.0231 - rpn_bbox_loss: 0.1608 - mrcnn_class_loss: 0.0823 - mrcnn_bbox_loss: 0.2618 - mrcnn_mask_loss: 0.1597 - val_loss: 0.3682 - val_rpn_class_loss: 0.0194 - val_rpn_bbox_loss: 0.0880 - val_mrcnn_class_loss: 0.0650 - val_mrcnn_bbox_loss: 0.2170 - val_mrcnn_mask_loss: 0.1305\n",
            "Epoch 5/20\n",
            "10/10 [==============================] - 123s 12s/step - loss: 0.5768 - rpn_class_loss: 0.0197 - rpn_bbox_loss: 0.1300 - mrcnn_class_loss: 0.0674 - mrcnn_bbox_loss: 0.2314 - mrcnn_mask_loss: 0.1283 - val_loss: 0.5107 - val_rpn_class_loss: 0.0150 - val_rpn_bbox_loss: 0.1155 - val_mrcnn_class_loss: 0.0477 - val_mrcnn_bbox_loss: 0.1660 - val_mrcnn_mask_loss: 0.1098\n",
            "Epoch 6/20\n",
            "10/10 [==============================] - 122s 12s/step - loss: 0.4311 - rpn_class_loss: 0.0102 - rpn_bbox_loss: 0.1183 - mrcnn_class_loss: 0.0475 - mrcnn_bbox_loss: 0.1570 - mrcnn_mask_loss: 0.0982 - val_loss: 0.2707 - val_rpn_class_loss: 0.0147 - val_rpn_bbox_loss: 0.0810 - val_mrcnn_class_loss: 0.0359 - val_mrcnn_bbox_loss: 0.1404 - val_mrcnn_mask_loss: 0.0988\n",
            "Epoch 7/20\n",
            "10/10 [==============================] - 122s 12s/step - loss: 0.3652 - rpn_class_loss: 0.0138 - rpn_bbox_loss: 0.0942 - mrcnn_class_loss: 0.0456 - mrcnn_bbox_loss: 0.1153 - mrcnn_mask_loss: 0.0962 - val_loss: 0.1897 - val_rpn_class_loss: 0.0132 - val_rpn_bbox_loss: 0.1587 - val_mrcnn_class_loss: 0.0403 - val_mrcnn_bbox_loss: 0.1197 - val_mrcnn_mask_loss: 0.0901\n",
            "Epoch 8/20\n",
            "10/10 [==============================] - 122s 12s/step - loss: 0.4792 - rpn_class_loss: 0.0177 - rpn_bbox_loss: 0.1836 - mrcnn_class_loss: 0.0484 - mrcnn_bbox_loss: 0.1351 - mrcnn_mask_loss: 0.0945 - val_loss: 0.4467 - val_rpn_class_loss: 0.0119 - val_rpn_bbox_loss: 0.0887 - val_mrcnn_class_loss: 0.0482 - val_mrcnn_bbox_loss: 0.1331 - val_mrcnn_mask_loss: 0.0858\n",
            "Epoch 9/20\n",
            "10/10 [==============================] - 121s 12s/step - loss: 0.3952 - rpn_class_loss: 0.0106 - rpn_bbox_loss: 0.1086 - mrcnn_class_loss: 0.0369 - mrcnn_bbox_loss: 0.1535 - mrcnn_mask_loss: 0.0856 - val_loss: 0.2588 - val_rpn_class_loss: 0.0105 - val_rpn_bbox_loss: 0.0639 - val_mrcnn_class_loss: 0.0293 - val_mrcnn_bbox_loss: 0.1712 - val_mrcnn_mask_loss: 0.0824\n",
            "Epoch 10/20\n",
            "10/10 [==============================] - 121s 12s/step - loss: 0.3192 - rpn_class_loss: 0.0085 - rpn_bbox_loss: 0.0590 - mrcnn_class_loss: 0.0263 - mrcnn_bbox_loss: 0.1418 - mrcnn_mask_loss: 0.0836 - val_loss: 0.2827 - val_rpn_class_loss: 0.0104 - val_rpn_bbox_loss: 0.0807 - val_mrcnn_class_loss: 0.0318 - val_mrcnn_bbox_loss: 0.1458 - val_mrcnn_mask_loss: 0.0826\n",
            "Epoch 11/20\n",
            "10/10 [==============================] - 121s 12s/step - loss: 0.3199 - rpn_class_loss: 0.0121 - rpn_bbox_loss: 0.0939 - mrcnn_class_loss: 0.0259 - mrcnn_bbox_loss: 0.1113 - mrcnn_mask_loss: 0.0767 - val_loss: 0.2508 - val_rpn_class_loss: 0.0110 - val_rpn_bbox_loss: 0.0683 - val_mrcnn_class_loss: 0.0351 - val_mrcnn_bbox_loss: 0.1430 - val_mrcnn_mask_loss: 0.0796\n",
            "Epoch 12/20\n",
            "10/10 [==============================] - 121s 12s/step - loss: 0.3449 - rpn_class_loss: 0.0113 - rpn_bbox_loss: 0.0651 - mrcnn_class_loss: 0.0324 - mrcnn_bbox_loss: 0.1560 - mrcnn_mask_loss: 0.0802 - val_loss: 0.3261 - val_rpn_class_loss: 0.0095 - val_rpn_bbox_loss: 0.0616 - val_mrcnn_class_loss: 0.0284 - val_mrcnn_bbox_loss: 0.1155 - val_mrcnn_mask_loss: 0.0768\n",
            "Epoch 13/20\n",
            "10/10 [==============================] - 122s 12s/step - loss: 0.2940 - rpn_class_loss: 0.0084 - rpn_bbox_loss: 0.0603 - mrcnn_class_loss: 0.0297 - mrcnn_bbox_loss: 0.1173 - mrcnn_mask_loss: 0.0782 - val_loss: 0.2833 - val_rpn_class_loss: 0.0116 - val_rpn_bbox_loss: 0.0508 - val_mrcnn_class_loss: 0.0248 - val_mrcnn_bbox_loss: 0.1012 - val_mrcnn_mask_loss: 0.0781\n",
            "Epoch 14/20\n",
            "10/10 [==============================] - 121s 12s/step - loss: 0.2230 - rpn_class_loss: 0.0107 - rpn_bbox_loss: 0.0461 - mrcnn_class_loss: 0.0191 - mrcnn_bbox_loss: 0.0750 - mrcnn_mask_loss: 0.0720 - val_loss: 0.2408 - val_rpn_class_loss: 0.0092 - val_rpn_bbox_loss: 0.0483 - val_mrcnn_class_loss: 0.0245 - val_mrcnn_bbox_loss: 0.0786 - val_mrcnn_mask_loss: 0.0705\n",
            "Epoch 15/20\n",
            "10/10 [==============================] - 121s 12s/step - loss: 0.1935 - rpn_class_loss: 0.0032 - rpn_bbox_loss: 0.0350 - mrcnn_class_loss: 0.0211 - mrcnn_bbox_loss: 0.0681 - mrcnn_mask_loss: 0.0660 - val_loss: 0.2552 - val_rpn_class_loss: 0.0090 - val_rpn_bbox_loss: 0.0797 - val_mrcnn_class_loss: 0.0271 - val_mrcnn_bbox_loss: 0.1185 - val_mrcnn_mask_loss: 0.0722\n",
            "Epoch 16/20\n",
            "10/10 [==============================] - 122s 12s/step - loss: 0.3630 - rpn_class_loss: 0.0139 - rpn_bbox_loss: 0.1172 - mrcnn_class_loss: 0.0270 - mrcnn_bbox_loss: 0.1290 - mrcnn_mask_loss: 0.0759 - val_loss: 0.1822 - val_rpn_class_loss: 0.0069 - val_rpn_bbox_loss: 0.0710 - val_mrcnn_class_loss: 0.0272 - val_mrcnn_bbox_loss: 0.0775 - val_mrcnn_mask_loss: 0.0661\n",
            "Epoch 17/20\n",
            "10/10 [==============================] - 121s 12s/step - loss: 0.2340 - rpn_class_loss: 0.0099 - rpn_bbox_loss: 0.0616 - mrcnn_class_loss: 0.0248 - mrcnn_bbox_loss: 0.0736 - mrcnn_mask_loss: 0.0642 - val_loss: 0.2370 - val_rpn_class_loss: 0.0085 - val_rpn_bbox_loss: 0.0737 - val_mrcnn_class_loss: 0.0272 - val_mrcnn_bbox_loss: 0.0721 - val_mrcnn_mask_loss: 0.0673\n",
            "Epoch 18/20\n",
            "10/10 [==============================] - 122s 12s/step - loss: 0.2579 - rpn_class_loss: 0.0073 - rpn_bbox_loss: 0.0772 - mrcnn_class_loss: 0.0322 - mrcnn_bbox_loss: 0.0697 - mrcnn_mask_loss: 0.0714 - val_loss: 0.2959 - val_rpn_class_loss: 0.0063 - val_rpn_bbox_loss: 0.0515 - val_mrcnn_class_loss: 0.0226 - val_mrcnn_bbox_loss: 0.0590 - val_mrcnn_mask_loss: 0.0676\n",
            "Epoch 19/20\n",
            "10/10 [==============================] - 123s 12s/step - loss: 0.3019 - rpn_class_loss: 0.0066 - rpn_bbox_loss: 0.1017 - mrcnn_class_loss: 0.0283 - mrcnn_bbox_loss: 0.0904 - mrcnn_mask_loss: 0.0749 - val_loss: 0.2014 - val_rpn_class_loss: 0.0072 - val_rpn_bbox_loss: 0.0513 - val_mrcnn_class_loss: 0.0250 - val_mrcnn_bbox_loss: 0.0741 - val_mrcnn_mask_loss: 0.0657\n",
            "Epoch 20/20\n",
            "10/10 [==============================] - 120s 12s/step - loss: 0.2108 - rpn_class_loss: 0.0064 - rpn_bbox_loss: 0.0674 - mrcnn_class_loss: 0.0254 - mrcnn_bbox_loss: 0.0534 - mrcnn_mask_loss: 0.0582 - val_loss: 0.1388 - val_rpn_class_loss: 0.0054 - val_rpn_bbox_loss: 0.0475 - val_mrcnn_class_loss: 0.0258 - val_mrcnn_bbox_loss: 0.0563 - val_mrcnn_mask_loss: 0.0617\n"
          ]
        }
      ]
    },
    {
      "cell_type": "code",
      "source": [
        ""
      ],
      "metadata": {
        "id": "VGl2f19sQcJ9"
      },
      "execution_count": null,
      "outputs": []
    },
    {
      "cell_type": "code",
      "source": [
        ""
      ],
      "metadata": {
        "id": "BUU5pVTLRdmu"
      },
      "execution_count": null,
      "outputs": []
    }
  ]
}