{
  "nbformat": 4,
  "nbformat_minor": 0,
  "metadata": {
    "colab": {
      "name": "mask_rcnn_train.ipynb",
      "provenance": [],
      "collapsed_sections": [],
      "authorship_tag": "ABX9TyOu+8AqmU4h16xZ0AyXLsZC",
      "include_colab_link": true
    },
    "kernelspec": {
      "name": "python3",
      "display_name": "Python 3"
    },
    "language_info": {
      "name": "python"
    },
    "accelerator": "GPU"
  },
  "cells": [
    {
      "cell_type": "markdown",
      "metadata": {
        "id": "view-in-github",
        "colab_type": "text"
      },
      "source": [
        "<a href=\"https://colab.research.google.com/github/aggelos-michael-papadopoulos/MASK_RCNN_2_classes/blob/main/mask_rcnn_train.ipynb\" target=\"_parent\"><img src=\"https://colab.research.google.com/assets/colab-badge.svg\" alt=\"Open In Colab\"/></a>"
      ]
    },
    {
      "cell_type": "code",
      "source": [
        "%tensorflow_version 1.x\n",
        "import keras\n",
        "import tensorflow\n",
        "print(tensorflow.__version__)\n",
        "print(keras.__version__)"
      ],
      "metadata": {
        "id": "43UKLzGCSeuR",
        "colab": {
          "base_uri": "https://localhost:8080/"
        },
        "outputId": "bfed9467-8077-408f-a12f-5961e768223d"
      },
      "execution_count": 1,
      "outputs": [
        {
          "output_type": "stream",
          "name": "stdout",
          "text": [
            "TensorFlow 1.x selected.\n"
          ]
        },
        {
          "output_type": "stream",
          "name": "stderr",
          "text": [
            "Using TensorFlow backend.\n"
          ]
        },
        {
          "output_type": "stream",
          "name": "stdout",
          "text": [
            "1.15.2\n",
            "2.3.1\n"
          ]
        }
      ]
    },
    {
      "cell_type": "markdown",
      "source": [
        "TensorFlow 1.x selected.\n",
        "Using TensorFlow backend.\n",
        "1.15.2\n",
        "2.3.1\n"
      ],
      "metadata": {
        "id": "iPiCn_fbNgeh"
      }
    },
    {
      "cell_type": "code",
      "execution_count": 2,
      "metadata": {
        "colab": {
          "base_uri": "https://localhost:8080/"
        },
        "id": "86_GNxyjQNR4",
        "outputId": "62f11135-17a1-4f77-c7dc-4d41621c1347"
      },
      "outputs": [
        {
          "output_type": "stream",
          "name": "stdout",
          "text": [
            "Drive already mounted at /content/drive; to attempt to forcibly remount, call drive.mount(\"/content/drive\", force_remount=True).\n"
          ]
        }
      ],
      "source": [
        "from google.colab import drive\n",
        "drive.mount('/content/drive')"
      ]
    },
    {
      "cell_type": "markdown",
      "source": [
        "Drive already mounted at / content/drive; to attempt to forcibly remount, call drive.mount(\"/ content/drive\", force_remount=True)."
      ],
      "metadata": {
        "id": "DR-gJp8-NkPH"
      }
    },
    {
      "cell_type": "code",
      "source": [
        "!pip install 'h5py<3.0.0'\n"
      ],
      "metadata": {
        "colab": {
          "base_uri": "https://localhost:8080/"
        },
        "id": "BuA7qCFpuTjZ",
        "outputId": "ee5e83d7-52f7-4556-f9a7-7d43f1ce9185"
      },
      "execution_count": 3,
      "outputs": [
        {
          "output_type": "stream",
          "name": "stdout",
          "text": [
            "Requirement already satisfied: h5py<3.0.0 in /usr/local/lib/python3.7/dist-packages (2.10.0)\n",
            "Requirement already satisfied: numpy>=1.7 in /usr/local/lib/python3.7/dist-packages (from h5py<3.0.0) (1.21.5)\n",
            "Requirement already satisfied: six in /usr/local/lib/python3.7/dist-packages (from h5py<3.0.0) (1.15.0)\n"
          ]
        }
      ]
    },
    {
      "cell_type": "markdown",
      "source": [
        "\n",
        "output\n",
        "```\n",
        "Requirement already satisfied: h5py<3.0.0 in /usr/local/lib/python3.7/dist-packages (2.10.0)\n",
        "Requirement already satisfied: numpy>=1.7 in /usr/local/lib/python3.7/dist-packages (from h5py<3.0.0) (1.21.5)\n",
        "Requirement already satisfied: six in /usr/local/lib/python3.7/dist-packages (from h5py<3.0.0) (1.15.0)\n",
        "```\n",
        "\n",
        "\n",
        "\n"
      ],
      "metadata": {
        "id": "mm5Uj_G8Nr0A"
      }
    },
    {
      "cell_type": "code",
      "source": [
        "!pip uninstall scikit-image"
      ],
      "metadata": {
        "colab": {
          "base_uri": "https://localhost:8080/"
        },
        "id": "nLsSXLruMrlX",
        "outputId": "249158c3-f419-4264-a6f0-99598c66ce7a"
      },
      "execution_count": 4,
      "outputs": [
        {
          "output_type": "stream",
          "name": "stdout",
          "text": [
            "Found existing installation: scikit-image 0.18.3\n",
            "Uninstalling scikit-image-0.18.3:\n",
            "  Would remove:\n",
            "    /usr/local/bin/skivi\n",
            "    /usr/local/lib/python3.7/dist-packages/scikit_image-0.18.3.dist-info/*\n",
            "    /usr/local/lib/python3.7/dist-packages/scikit_image.libs/libgomp-3300acd3.so.1.0.0\n",
            "    /usr/local/lib/python3.7/dist-packages/skimage/*\n",
            "Proceed (y/n)? y\n",
            "  Successfully uninstalled scikit-image-0.18.3\n"
          ]
        }
      ]
    },
    {
      "cell_type": "markdown",
      "source": [
        "output\n",
        "\n",
        "```\n",
        "Found existing installation: scikit-image 0.18.3\n",
        "Uninstalling scikit-image-0.18.3:\n",
        "  Would remove:\n",
        "    /usr/local/bin/skivi\n",
        "    /usr/local/lib/python3.7/dist-packages/scikit_image-0.18.3.dist-info/*\n",
        "    /usr/local/lib/python3.7/dist-packages/scikit_image.libs/libgomp-3300acd3.so.1.0.0\n",
        "    /usr/local/lib/python3.7/dist-packages/skimage/*\n",
        "Proceed (y/n)? y\n",
        "  Successfully uninstalled scikit-image-0.18.3\n",
        "```\n",
        "\n"
      ],
      "metadata": {
        "id": "z8dfjf68OMtZ"
      }
    },
    {
      "cell_type": "code",
      "source": [
        "!pip install scikit-image==0.16.2"
      ],
      "metadata": {
        "colab": {
          "base_uri": "https://localhost:8080/"
        },
        "id": "0iXg774VMtdO",
        "outputId": "de81f7e1-035c-4660-8c97-f49e3e0c2cee"
      },
      "execution_count": 5,
      "outputs": [
        {
          "output_type": "stream",
          "name": "stdout",
          "text": [
            "Collecting scikit-image==0.16.2\n",
            "  Downloading scikit_image-0.16.2-cp37-cp37m-manylinux1_x86_64.whl (26.5 MB)\n",
            "\u001b[K     |████████████████████████████████| 26.5 MB 1.4 MB/s \n",
            "\u001b[?25hRequirement already satisfied: pillow>=4.3.0 in /usr/local/lib/python3.7/dist-packages (from scikit-image==0.16.2) (7.1.2)\n",
            "Requirement already satisfied: matplotlib!=3.0.0,>=2.0.0 in /usr/local/lib/python3.7/dist-packages (from scikit-image==0.16.2) (3.2.2)\n",
            "Requirement already satisfied: networkx>=2.0 in /usr/local/lib/python3.7/dist-packages (from scikit-image==0.16.2) (2.6.3)\n",
            "Requirement already satisfied: imageio>=2.3.0 in /usr/local/lib/python3.7/dist-packages (from scikit-image==0.16.2) (2.4.1)\n",
            "Requirement already satisfied: PyWavelets>=0.4.0 in /usr/local/lib/python3.7/dist-packages (from scikit-image==0.16.2) (1.3.0)\n",
            "Requirement already satisfied: scipy>=0.19.0 in /usr/local/lib/python3.7/dist-packages (from scikit-image==0.16.2) (1.4.1)\n",
            "Requirement already satisfied: numpy in /usr/local/lib/python3.7/dist-packages (from imageio>=2.3.0->scikit-image==0.16.2) (1.21.5)\n",
            "Requirement already satisfied: python-dateutil>=2.1 in /usr/local/lib/python3.7/dist-packages (from matplotlib!=3.0.0,>=2.0.0->scikit-image==0.16.2) (2.8.2)\n",
            "Requirement already satisfied: kiwisolver>=1.0.1 in /usr/local/lib/python3.7/dist-packages (from matplotlib!=3.0.0,>=2.0.0->scikit-image==0.16.2) (1.4.0)\n",
            "Requirement already satisfied: pyparsing!=2.0.4,!=2.1.2,!=2.1.6,>=2.0.1 in /usr/local/lib/python3.7/dist-packages (from matplotlib!=3.0.0,>=2.0.0->scikit-image==0.16.2) (3.0.7)\n",
            "Requirement already satisfied: cycler>=0.10 in /usr/local/lib/python3.7/dist-packages (from matplotlib!=3.0.0,>=2.0.0->scikit-image==0.16.2) (0.11.0)\n",
            "Requirement already satisfied: typing-extensions in /usr/local/lib/python3.7/dist-packages (from kiwisolver>=1.0.1->matplotlib!=3.0.0,>=2.0.0->scikit-image==0.16.2) (3.10.0.2)\n",
            "Requirement already satisfied: six>=1.5 in /usr/local/lib/python3.7/dist-packages (from python-dateutil>=2.1->matplotlib!=3.0.0,>=2.0.0->scikit-image==0.16.2) (1.15.0)\n",
            "Installing collected packages: scikit-image\n",
            "\u001b[31mERROR: pip's dependency resolver does not currently take into account all the packages that are installed. This behaviour is the source of the following dependency conflicts.\n",
            "albumentations 0.1.12 requires imgaug<0.2.7,>=0.2.5, but you have imgaug 0.2.9 which is incompatible.\u001b[0m\n",
            "Successfully installed scikit-image-0.16.2\n"
          ]
        }
      ]
    },
    {
      "cell_type": "markdown",
      "source": [
        "output\n",
        "\n",
        "\n",
        "```\n",
        "Collecting scikit-image==0.16.2\n",
        "  Downloading scikit_image-0.16.2-cp37-cp37m-manylinux1_x86_64.whl (26.5 MB)\n",
        "     |████████████████████████████████| 26.5 MB 1.4 MB/s \n",
        "Requirement already satisfied: pillow>=4.3.0 in /usr/local/lib/python3.7/dist-packages (from scikit-image==0.16.2) (7.1.2)\n",
        "Requirement already satisfied: matplotlib!=3.0.0,>=2.0.0 in /usr/local/lib/python3.7/dist-packages (from scikit-image==0.16.2) (3.2.2)\n",
        "Requirement already satisfied: networkx>=2.0 in /usr/local/lib/python3.7/dist-packages (from scikit-image==0.16.2) (2.6.3)\n",
        "Requirement already satisfied: imageio>=2.3.0 in /usr/local/lib/python3.7/dist-packages (from scikit-image==0.16.2) (2.4.1)\n",
        "Requirement already satisfied: PyWavelets>=0.4.0 in /usr/local/lib/python3.7/dist-packages (from scikit-image==0.16.2) (1.3.0)\n",
        "Requirement already satisfied: scipy>=0.19.0 in /usr/local/lib/python3.7/dist-packages (from scikit-image==0.16.2) (1.4.1)\n",
        "Requirement already satisfied: numpy in /usr/local/lib/python3.7/dist-packages (from imageio>=2.3.0->scikit-image==0.16.2) (1.21.5)\n",
        "Requirement already satisfied: python-dateutil>=2.1 in /usr/local/lib/python3.7/dist-packages (from matplotlib!=3.0.0,>=2.0.0->scikit-image==0.16.2) (2.8.2)\n",
        "Requirement already satisfied: kiwisolver>=1.0.1 in /usr/local/lib/python3.7/dist-packages (from matplotlib!=3.0.0,>=2.0.0->scikit-image==0.16.2) (1.4.0)\n",
        "Requirement already satisfied: pyparsing!=2.0.4,!=2.1.2,!=2.1.6,>=2.0.1 in /usr/local/lib/python3.7/dist-packages (from matplotlib!=3.0.0,>=2.0.0->scikit-image==0.16.2) (3.0.7)\n",
        "Requirement already satisfied: cycler>=0.10 in /usr/local/lib/python3.7/dist-packages (from matplotlib!=3.0.0,>=2.0.0->scikit-image==0.16.2) (0.11.0)\n",
        "Requirement already satisfied: typing-extensions in /usr/local/lib/python3.7/dist-packages (from kiwisolver>=1.0.1->matplotlib!=3.0.0,>=2.0.0->scikit-image==0.16.2) (3.10.0.2)\n",
        "Requirement already satisfied: six>=1.5 in /usr/local/lib/python3.7/dist-packages (from python-dateutil>=2.1->matplotlib!=3.0.0,>=2.0.0->scikit-image==0.16.2) (1.15.0)\n",
        "Installing collected packages: scikit-image\n",
        "ERROR: pip's dependency resolver does not currently take into account all the packages that are installed. This behaviour is the source of the following dependency conflicts.\n",
        "albumentations 0.1.12 requires imgaug<0.2.7,>=0.2.5, but you have imgaug 0.2.9 which is incompatible.\n",
        "Successfully installed scikit-image-0.16.2\n",
        "```\n",
        "\n"
      ],
      "metadata": {
        "id": "HW77K1PKOTRD"
      }
    },
    {
      "cell_type": "code",
      "source": [
        "!python /content/drive/MyDrive/Colab_Notebooks/mask_r-cnn_project/custom.py"
      ],
      "metadata": {
        "id": "MXOqXqlcObit"
      },
      "execution_count": null,
      "outputs": []
    },
    {
      "cell_type": "markdown",
      "source": [
        "output\n",
        "\n",
        "\n",
        "```\n",
        "Using TensorFlow backend.\n",
        "WARNING:tensorflow:From /tensorflow-1.15.2/python3.7/tensorflow_core/python/ops/resource_variable_ops.py:1630: calling BaseResourceVariable.__init__ (from tensorflow.python.ops.resource_variable_ops) with constraint is deprecated and will be removed in a future version.\n",
        "Instructions for updating:\n",
        "If using Keras pass *_constraint arguments to layers.\n",
        "WARNING:tensorflow:From /tensorflow-1.15.2/python3.7/keras/backend/tensorflow_backend.py:4070: The name tf.nn.max_pool is deprecated. Please use tf.nn.max_pool2d instead.\n",
        "\n",
        "WARNING:tensorflow:From /tensorflow-1.15.2/python3.7/tensorflow_core/python/ops/array_ops.py:1475: where (from tensorflow.python.ops.array_ops) is deprecated and will be removed in a future version.\n",
        "Instructions for updating:\n",
        "Use tf.where in 2.0, which has the same broadcast rule as np.where\n",
        "WARNING:tensorflow:From /content/drive/MyDrive/Colab_Notebooks/mask_r-cnn_project/mrcnn/model.py:553: The name tf.random_shuffle is deprecated. Please use tf.random.shuffle instead.\n",
        "\n",
        "WARNING:tensorflow:From /content/drive/MyDrive/Colab_Notebooks/mask_r-cnn_project/mrcnn/utils.py:202: The name tf.log is deprecated. Please use tf.math.log instead.\n",
        "\n",
        "WARNING:tensorflow:From /content/drive/MyDrive/Colab_Notebooks/mask_r-cnn_project/mrcnn/model.py:600: calling crop_and_resize_v1 (from tensorflow.python.ops.image_ops_impl) with box_ind is deprecated and will be removed in a future version.\n",
        "Instructions for updating:\n",
        "box_ind is deprecated, use box_indices instead\n",
        "2022-03-27 19:52:33.228383: I tensorflow/stream_executor/platform/default/dso_loader.cc:44] Successfully opened dynamic library libcuda.so.1\n",
        "2022-03-27 19:52:33.302420: I tensorflow/stream_executor/cuda/cuda_gpu_executor.cc:983] successful NUMA node read from SysFS had negative value (-1), but there must be at least one NUMA node, so returning NUMA node zero\n",
        "2022-03-27 19:52:33.303301: I tensorflow/core/common_runtime/gpu/gpu_device.cc:1639] Found device 0 with properties: \n",
        "name: Tesla K80 major: 3 minor: 7 memoryClockRate(GHz): 0.8235\n",
        "pciBusID: 0000:00:04.0\n",
        "2022-03-27 19:52:33.342109: I tensorflow/stream_executor/platform/default/dso_loader.cc:44] Successfully opened dynamic library libcudart.so.10.1\n",
        "2022-03-27 19:52:33.508322: I tensorflow/stream_executor/platform/default/dso_loader.cc:44] Successfully opened dynamic library libcublas.so.10\n",
        "2022-03-27 19:52:33.561889: I tensorflow/stream_executor/platform/default/dso_loader.cc:44] Successfully opened dynamic library libcufft.so.10\n",
        "2022-03-27 19:52:33.583222: I tensorflow/stream_executor/platform/default/dso_loader.cc:44] Successfully opened dynamic library libcurand.so.10\n",
        "2022-03-27 19:52:33.927335: I tensorflow/stream_executor/platform/default/dso_loader.cc:44] Successfully opened dynamic library libcusolver.so.10\n",
        "2022-03-27 19:52:33.945842: I tensorflow/stream_executor/platform/default/dso_loader.cc:44] Successfully opened dynamic library libcusparse.so.10\n",
        "2022-03-27 19:52:34.278350: I tensorflow/stream_executor/platform/default/dso_loader.cc:44] Successfully opened dynamic library libcudnn.so.7\n",
        "2022-03-27 19:52:34.278614: I tensorflow/stream_executor/cuda/cuda_gpu_executor.cc:983] successful NUMA node read from SysFS had negative value (-1), but there must be at least one NUMA node, so returning NUMA node zero\n",
        "2022-03-27 19:52:34.279676: I tensorflow/stream_executor/cuda/cuda_gpu_executor.cc:983] successful NUMA node read from SysFS had negative value (-1), but there must be at least one NUMA node, so returning NUMA node zero\n",
        "2022-03-27 19:52:34.280515: I tensorflow/core/common_runtime/gpu/gpu_device.cc:1767] Adding visible gpu devices: 0\n",
        "2022-03-27 19:52:34.302516: I tensorflow/core/platform/profile_utils/cpu_utils.cc:94] CPU Frequency: 2299995000 Hz\n",
        "2022-03-27 19:52:34.302895: I tensorflow/compiler/xla/service/service.cc:168] XLA service 0x5628608eb640 initialized for platform Host (this does not guarantee that XLA will be used). Devices:\n",
        "2022-03-27 19:52:34.302934: I tensorflow/compiler/xla/service/service.cc:176]   StreamExecutor device (0): Host, Default Version\n",
        "2022-03-27 19:52:34.433808: I tensorflow/stream_executor/cuda/cuda_gpu_executor.cc:983] successful NUMA node read from SysFS had negative value (-1), but there must be at least one NUMA node, so returning NUMA node zero\n",
        "2022-03-27 19:52:34.434702: I tensorflow/compiler/xla/service/service.cc:168] XLA service 0x5628608eb800 initialized for platform CUDA (this does not guarantee that XLA will be used). Devices:\n",
        "2022-03-27 19:52:34.434737: I tensorflow/compiler/xla/service/service.cc:176]   StreamExecutor device (0): Tesla K80, Compute Capability 3.7\n",
        "2022-03-27 19:52:34.436080: I tensorflow/stream_executor/cuda/cuda_gpu_executor.cc:983] successful NUMA node read from SysFS had negative value (-1), but there must be at least one NUMA node, so returning NUMA node zero\n",
        "2022-03-27 19:52:34.436786: I tensorflow/core/common_runtime/gpu/gpu_device.cc:1639] Found device 0 with properties: \n",
        "name: Tesla K80 major: 3 minor: 7 memoryClockRate(GHz): 0.8235\n",
        "pciBusID: 0000:00:04.0\n",
        "2022-03-27 19:52:34.436896: I tensorflow/stream_executor/platform/default/dso_loader.cc:44] Successfully opened dynamic library libcudart.so.10.1\n",
        "2022-03-27 19:52:34.436947: I tensorflow/stream_executor/platform/default/dso_loader.cc:44] Successfully opened dynamic library libcublas.so.10\n",
        "2022-03-27 19:52:34.437042: I tensorflow/stream_executor/platform/default/dso_loader.cc:44] Successfully opened dynamic library libcufft.so.10\n",
        "2022-03-27 19:52:34.437092: I tensorflow/stream_executor/platform/default/dso_loader.cc:44] Successfully opened dynamic library libcurand.so.10\n",
        "2022-03-27 19:52:34.437172: I tensorflow/stream_executor/platform/default/dso_loader.cc:44] Successfully opened dynamic library libcusolver.so.10\n",
        "2022-03-27 19:52:34.437229: I tensorflow/stream_executor/platform/default/dso_loader.cc:44] Successfully opened dynamic library libcusparse.so.10\n",
        "2022-03-27 19:52:34.437289: I tensorflow/stream_executor/platform/default/dso_loader.cc:44] Successfully opened dynamic library libcudnn.so.7\n",
        "2022-03-27 19:52:34.437392: I tensorflow/stream_executor/cuda/cuda_gpu_executor.cc:983] successful NUMA node read from SysFS had negative value (-1), but there must be at least one NUMA node, so returning NUMA node zero\n",
        "2022-03-27 19:52:34.438193: I tensorflow/stream_executor/cuda/cuda_gpu_executor.cc:983] successful NUMA node read from SysFS had negative value (-1), but there must be at least one NUMA node, so returning NUMA node zero\n",
        "2022-03-27 19:52:34.438969: I tensorflow/core/common_runtime/gpu/gpu_device.cc:1767] Adding visible gpu devices: 0\n",
        "2022-03-27 19:52:34.442166: I tensorflow/stream_executor/platform/default/dso_loader.cc:44] Successfully opened dynamic library libcudart.so.10.1\n",
        "2022-03-27 19:52:34.443857: I tensorflow/core/common_runtime/gpu/gpu_device.cc:1180] Device interconnect StreamExecutor with strength 1 edge matrix:\n",
        "2022-03-27 19:52:34.443889: I tensorflow/core/common_runtime/gpu/gpu_device.cc:1186]      0 \n",
        "2022-03-27 19:52:34.443907: I tensorflow/core/common_runtime/gpu/gpu_device.cc:1199] 0:   N \n",
        "2022-03-27 19:52:34.445218: I tensorflow/stream_executor/cuda/cuda_gpu_executor.cc:983] successful NUMA node read from SysFS had negative value (-1), but there must be at least one NUMA node, so returning NUMA node zero\n",
        "2022-03-27 19:52:34.446156: I tensorflow/stream_executor/cuda/cuda_gpu_executor.cc:983] successful NUMA node read from SysFS had negative value (-1), but there must be at least one NUMA node, so returning NUMA node zero\n",
        "2022-03-27 19:52:34.446867: W tensorflow/core/common_runtime/gpu/gpu_bfc_allocator.cc:39] Overriding allow_growth setting because the TF_FORCE_GPU_ALLOW_GROWTH environment variable is set. Original config value was 0.\n",
        "2022-03-27 19:52:34.446937: I tensorflow/core/common_runtime/gpu/gpu_device.cc:1325] Created TensorFlow device (/job:localhost/replica:0/task:0/device:GPU:0 with 10813 MB memory) -> physical GPU (device: 0, name: Tesla K80, pci bus id: 0000:00:04.0, compute capability: 3.7)\n",
        "objects: ['pen', 'pen', 'glass', 'glass']\n",
        "numids [2, 2, 1, 1]\n",
        "objects: ['pen', 'pen', 'glass', 'glass']\n",
        "numids [2, 2, 1, 1]\n",
        "objects: ['pen', 'glass', 'pen', 'glass']\n",
        "numids [2, 1, 2, 1]\n",
        "objects: ['pen', 'pen', 'glass', 'glass']\n",
        "numids [2, 2, 1, 1]\n",
        "objects: ['pen', 'pen', 'pen', 'glass', 'glass']\n",
        "numids [2, 2, 2, 1, 1]\n",
        "objects: ['pen', 'pen', 'pen', 'glass', 'glass']\n",
        "numids [2, 2, 2, 1, 1]\n",
        "objects: ['pen', 'pen', 'glass', 'glass']\n",
        "numids [2, 2, 1, 1]\n",
        "objects: ['pen', 'pen', 'glass', 'glass', 'glass']\n",
        "numids [2, 2, 1, 1, 1]\n",
        "objects: ['pen', 'pen', 'glass', 'glass']\n",
        "numids [2, 2, 1, 1]\n",
        "objects: ['pen', 'glass', 'glass', 'pen', 'pen']\n",
        "numids [2, 1, 1, 2, 2]\n",
        "objects: ['pen', 'pen', 'glass', 'glass']\n",
        "numids [2, 2, 1, 1]\n",
        "objects: ['pen', 'glass', 'pen', 'glass']\n",
        "numids [2, 1, 2, 1]\n",
        "objects: ['glass', 'pen', 'pen', 'glass', 'glass']\n",
        "numids [1, 2, 2, 1, 1]\n",
        "objects: ['pen', 'glass', 'pen', 'glass', 'pen', 'glass']\n",
        "numids [2, 1, 2, 1, 2, 1]\n",
        "objects: ['pen', 'glass', 'pen', 'glass', 'pen']\n",
        "numids [2, 1, 2, 1, 2]\n",
        "objects: ['glass', 'pen', 'pen', 'glass', 'pen', 'glass', 'glass']\n",
        "numids [1, 2, 2, 1, 2, 1, 1]\n",
        "objects: ['glass', 'glass', 'glass', 'pen', 'pen', 'pen', 'glass']\n",
        "numids [1, 1, 1, 2, 2, 2, 1]\n",
        "objects: ['pen', 'pen', 'glass', 'glass', 'pen']\n",
        "numids [2, 2, 1, 1, 2]\n",
        "objects: ['glass', 'glass', 'pen', 'pen', 'glass']\n",
        "numids [1, 1, 2, 2, 1]\n",
        "objects: ['glass', 'pen', 'glass', 'pen']\n",
        "numids [1, 2, 1, 2]\n",
        "objects: ['pen', 'pen', 'glass', 'glass']\n",
        "numids [2, 2, 1, 1]\n",
        "objects: ['pen', 'pen', 'glass', 'glass']\n",
        "numids [2, 2, 1, 1]\n",
        "objects: ['pen', 'glass', 'pen', 'glass']\n",
        "numids [2, 1, 2, 1]\n",
        "objects: ['pen', 'pen', 'glass', 'glass']\n",
        "numids [2, 2, 1, 1]\n",
        "objects: ['pen', 'pen', 'pen', 'glass', 'glass']\n",
        "numids [2, 2, 2, 1, 1]\n",
        "objects: ['pen', 'pen', 'pen', 'glass', 'glass']\n",
        "numids [2, 2, 2, 1, 1]\n",
        "objects: ['pen', 'pen', 'glass', 'glass']\n",
        "numids [2, 2, 1, 1]\n",
        "objects: ['pen', 'pen', 'glass', 'glass', 'glass']\n",
        "numids [2, 2, 1, 1, 1]\n",
        "objects: ['pen', 'pen', 'glass', 'glass']\n",
        "numids [2, 2, 1, 1]\n",
        "objects: ['pen', 'glass', 'glass', 'pen', 'pen']\n",
        "numids [2, 1, 1, 2, 2]\n",
        "objects: ['pen', 'pen', 'glass', 'glass']\n",
        "numids [2, 2, 1, 1]\n",
        "objects: ['pen', 'glass', 'pen', 'glass']\n",
        "numids [2, 1, 2, 1]\n",
        "objects: ['glass', 'pen', 'pen', 'glass', 'glass']\n",
        "numids [1, 2, 2, 1, 1]\n",
        "objects: ['pen', 'glass', 'pen', 'glass', 'pen', 'glass']\n",
        "numids [2, 1, 2, 1, 2, 1]\n",
        "objects: ['pen', 'glass', 'pen', 'glass', 'pen']\n",
        "numids [2, 1, 2, 1, 2]\n",
        "objects: ['glass', 'pen', 'pen', 'glass', 'pen', 'glass', 'glass']\n",
        "numids [1, 2, 2, 1, 2, 1, 1]\n",
        "objects: ['glass', 'glass', 'glass', 'pen', 'pen', 'pen', 'glass']\n",
        "numids [1, 1, 1, 2, 2, 2, 1]\n",
        "objects: ['pen', 'pen', 'glass', 'glass', 'pen']\n",
        "numids [2, 2, 1, 1, 2]\n",
        "objects: ['glass', 'glass', 'pen', 'pen', 'glass']\n",
        "numids [1, 1, 2, 2, 1]\n",
        "objects: ['glass', 'pen', 'glass', 'pen']\n",
        "numids [1, 2, 1, 2]\n",
        "Training network heads\n",
        "\n",
        "Starting at epoch 0. LR=0.001\n",
        "\n",
        "Checkpoint Path: /content/drive/MyDrive/Colab_Notebooks/mask_r-cnn_project/mrcnn/logs/object20220327T1952/mask_rcnn_object_{epoch:04d}.h5\n",
        "Selecting layers to train\n",
        "fpn_c5p5               (Conv2D)\n",
        "fpn_c4p4               (Conv2D)\n",
        "fpn_c3p3               (Conv2D)\n",
        "fpn_c2p2               (Conv2D)\n",
        "fpn_p5                 (Conv2D)\n",
        "fpn_p2                 (Conv2D)\n",
        "fpn_p3                 (Conv2D)\n",
        "fpn_p4                 (Conv2D)\n",
        "In model:  rpn_model\n",
        "    rpn_conv_shared        (Conv2D)\n",
        "    rpn_class_raw          (Conv2D)\n",
        "    rpn_bbox_pred          (Conv2D)\n",
        "mrcnn_mask_conv1       (TimeDistributed)\n",
        "mrcnn_mask_bn1         (TimeDistributed)\n",
        "mrcnn_mask_conv2       (TimeDistributed)\n",
        "mrcnn_mask_bn2         (TimeDistributed)\n",
        "mrcnn_class_conv1      (TimeDistributed)\n",
        "mrcnn_class_bn1        (TimeDistributed)\n",
        "mrcnn_mask_conv3       (TimeDistributed)\n",
        "mrcnn_mask_bn3         (TimeDistributed)\n",
        "mrcnn_class_conv2      (TimeDistributed)\n",
        "mrcnn_class_bn2        (TimeDistributed)\n",
        "mrcnn_mask_conv4       (TimeDistributed)\n",
        "mrcnn_mask_bn4         (TimeDistributed)\n",
        "mrcnn_bbox_fc          (TimeDistributed)\n",
        "mrcnn_mask_deconv      (TimeDistributed)\n",
        "mrcnn_class_logits     (TimeDistributed)\n",
        "mrcnn_mask             (TimeDistributed)\n",
        "/tensorflow-1.15.2/python3.7/tensorflow_core/python/framework/indexed_slices.py:424: UserWarning: Converting sparse IndexedSlices to a dense Tensor of unknown shape. This may consume a large amount of memory.\n",
        "  \"Converting sparse IndexedSlices to a dense Tensor of unknown shape. \"\n",
        "/tensorflow-1.15.2/python3.7/tensorflow_core/python/framework/indexed_slices.py:424: UserWarning: Converting sparse IndexedSlices to a dense Tensor of unknown shape. This may consume a large amount of memory.\n",
        "  \"Converting sparse IndexedSlices to a dense Tensor of unknown shape. \"\n",
        "/tensorflow-1.15.2/python3.7/tensorflow_core/python/framework/indexed_slices.py:424: UserWarning: Converting sparse IndexedSlices to a dense Tensor of unknown shape. This may consume a large amount of memory.\n",
        "  \"Converting sparse IndexedSlices to a dense Tensor of unknown shape. \"\n",
        "WARNING:tensorflow:From /tensorflow-1.15.2/python3.7/keras/backend/tensorflow_backend.py:422: The name tf.global_variables is deprecated. Please use tf.compat.v1.global_variables instead.\n",
        "\n",
        "WARNING:tensorflow:From /tensorflow-1.15.2/python3.7/keras/backend/tensorflow_backend.py:431: The name tf.is_variable_initialized is deprecated. Please use tf.compat.v1.is_variable_initialized instead.\n",
        "\n",
        "WARNING:tensorflow:From /tensorflow-1.15.2/python3.7/keras/backend/tensorflow_backend.py:438: The name tf.variables_initializer is deprecated. Please use tf.compat.v1.variables_initializer instead.\n",
        "\n",
        "/tensorflow-1.15.2/python3.7/keras/engine/training_generator.py:49: UserWarning: Using a generator with `use_multiprocessing=True` and multiple workers may duplicate your data. Please consider using the `keras.utils.Sequence class.\n",
        "  UserWarning('Using a generator with `use_multiprocessing=True`'\n",
        "WARNING:tensorflow:From /tensorflow-1.15.2/python3.7/keras/callbacks/tensorboard_v1.py:200: The name tf.summary.merge_all is deprecated. Please use tf.compat.v1.summary.merge_all instead.\n",
        "\n",
        "WARNING:tensorflow:From /tensorflow-1.15.2/python3.7/keras/callbacks/tensorboard_v1.py:203: The name tf.summary.FileWriter is deprecated. Please use tf.compat.v1.summary.FileWriter instead.\n",
        "\n",
        "Epoch 1/20\n",
        "2022-03-27 19:54:28.832294: I tensorflow/stream_executor/platform/default/dso_loader.cc:44] Successfully opened dynamic library libcublas.so.10\n",
        "2022-03-27 19:54:29.775301: I tensorflow/stream_executor/platform/default/dso_loader.cc:44] Successfully opened dynamic library libcudnn.so.7\n",
        "10/10 [==============================] - 211s 21s/step - loss: 3.3764 - rpn_class_loss: 0.0717 - rpn_bbox_loss: 0.1706 - mrcnn_class_loss: 0.6388 - mrcnn_bbox_loss: 0.9451 - mrcnn_mask_loss: 1.5502 - val_loss: 1.6902 - val_rpn_class_loss: 0.0531 - val_rpn_bbox_loss: 0.1689 - val_mrcnn_class_loss: 0.3008 - val_mrcnn_bbox_loss: 0.6277 - val_mrcnn_mask_loss: 0.6995\n",
        "WARNING:tensorflow:From /tensorflow-1.15.2/python3.7/keras/callbacks/tensorboard_v1.py:343: The name tf.Summary is deprecated. Please use tf.compat.v1.Summary instead.\n",
        "\n",
        "Epoch 2/20\n",
        "10/10 [==============================] - 79s 8s/step - loss: 1.5919 - rpn_class_loss: 0.0715 - rpn_bbox_loss: 0.2517 - mrcnn_class_loss: 0.2089 - mrcnn_bbox_loss: 0.5290 - mrcnn_mask_loss: 0.5308 - val_loss: 0.8626 - val_rpn_class_loss: 0.0275 - val_rpn_bbox_loss: 0.1220 - val_mrcnn_class_loss: 0.1016 - val_mrcnn_bbox_loss: 0.4395 - val_mrcnn_mask_loss: 0.4261\n",
        "Epoch 3/20\n",
        "10/10 [==============================] - 145s 15s/step - loss: 0.9274 - rpn_class_loss: 0.0200 - rpn_bbox_loss: 0.0991 - mrcnn_class_loss: 0.1047 - mrcnn_bbox_loss: 0.3181 - mrcnn_mask_loss: 0.3855 - val_loss: 0.5016 - val_rpn_class_loss: 0.0176 - val_rpn_bbox_loss: 0.1144 - val_mrcnn_class_loss: 0.0505 - val_mrcnn_bbox_loss: 0.2505 - val_mrcnn_mask_loss: 0.3172\n",
        "Epoch 4/20\n",
        "10/10 [==============================] - 151s 15s/step - loss: 0.7067 - rpn_class_loss: 0.0218 - rpn_bbox_loss: 0.1305 - mrcnn_class_loss: 0.0380 - mrcnn_bbox_loss: 0.2536 - mrcnn_mask_loss: 0.2628 - val_loss: 0.8011 - val_rpn_class_loss: 0.0170 - val_rpn_bbox_loss: 0.0899 - val_mrcnn_class_loss: 0.0493 - val_mrcnn_bbox_loss: 0.2004 - val_mrcnn_mask_loss: 0.2245\n",
        "Epoch 5/20\n",
        "10/10 [==============================] - 154s 15s/step - loss: 0.4969 - rpn_class_loss: 0.0073 - rpn_bbox_loss: 0.0829 - mrcnn_class_loss: 0.0394 - mrcnn_bbox_loss: 0.1860 - mrcnn_mask_loss: 0.1813 - val_loss: 0.5395 - val_rpn_class_loss: 0.0136 - val_rpn_bbox_loss: 0.1064 - val_mrcnn_class_loss: 0.0420 - val_mrcnn_bbox_loss: 0.1722 - val_mrcnn_mask_loss: 0.1692\n",
        "Epoch 6/20\n",
        "10/10 [==============================] - 155s 15s/step - loss: 0.6046 - rpn_class_loss: 0.0198 - rpn_bbox_loss: 0.1223 - mrcnn_class_loss: 0.0504 - mrcnn_bbox_loss: 0.2387 - mrcnn_mask_loss: 0.1734 - val_loss: 0.4647 - val_rpn_class_loss: 0.0127 - val_rpn_bbox_loss: 0.0773 - val_mrcnn_class_loss: 0.0499 - val_mrcnn_bbox_loss: 0.1583 - val_mrcnn_mask_loss: 0.1466\n",
        "Epoch 7/20\n",
        "10/10 [==============================] - 151s 15s/step - loss: 0.4611 - rpn_class_loss: 0.0162 - rpn_bbox_loss: 0.1047 - mrcnn_class_loss: 0.0501 - mrcnn_bbox_loss: 0.1518 - mrcnn_mask_loss: 0.1384 - val_loss: 0.2951 - val_rpn_class_loss: 0.0145 - val_rpn_bbox_loss: 0.1201 - val_mrcnn_class_loss: 0.0389 - val_mrcnn_bbox_loss: 0.1163 - val_mrcnn_mask_loss: 0.1292\n",
        "Epoch 8/20\n",
        "10/10 [==============================] - 155s 15s/step - loss: 0.4135 - rpn_class_loss: 0.0118 - rpn_bbox_loss: 0.1022 - mrcnn_class_loss: 0.0346 - mrcnn_bbox_loss: 0.1374 - mrcnn_mask_loss: 0.1275 - val_loss: 0.5675 - val_rpn_class_loss: 0.0126 - val_rpn_bbox_loss: 0.1255 - val_mrcnn_class_loss: 0.0334 - val_mrcnn_bbox_loss: 0.1237 - val_mrcnn_mask_loss: 0.1174\n",
        "Epoch 9/20\n",
        "10/10 [==============================] - 155s 15s/step - loss: 0.3313 - rpn_class_loss: 0.0072 - rpn_bbox_loss: 0.0881 - mrcnn_class_loss: 0.0292 - mrcnn_bbox_loss: 0.1024 - mrcnn_mask_loss: 0.1045 - val_loss: 0.3975 - val_rpn_class_loss: 0.0126 - val_rpn_bbox_loss: 0.0767 - val_mrcnn_class_loss: 0.0296 - val_mrcnn_bbox_loss: 0.1038 - val_mrcnn_mask_loss: 0.1098\n",
        "Epoch 10/20\n",
        "10/10 [==============================] - 152s 15s/step - loss: 0.3378 - rpn_class_loss: 0.0174 - rpn_bbox_loss: 0.0810 - mrcnn_class_loss: 0.0306 - mrcnn_bbox_loss: 0.0982 - mrcnn_mask_loss: 0.1107 - val_loss: 0.2420 - val_rpn_class_loss: 0.0100 - val_rpn_bbox_loss: 0.0892 - val_mrcnn_class_loss: 0.0284 - val_mrcnn_bbox_loss: 0.0778 - val_mrcnn_mask_loss: 0.0996\n",
        "Epoch 11/20\n",
        "10/10 [==============================] - 156s 16s/step - loss: 0.3750 - rpn_class_loss: 0.0106 - rpn_bbox_loss: 0.1229 - mrcnn_class_loss: 0.0379 - mrcnn_bbox_loss: 0.0992 - mrcnn_mask_loss: 0.1043 - val_loss: 0.3227 - val_rpn_class_loss: 0.0088 - val_rpn_bbox_loss: 0.0676 - val_mrcnn_class_loss: 0.0371 - val_mrcnn_bbox_loss: 0.0755 - val_mrcnn_mask_loss: 0.0932\n",
        "Epoch 12/20\n",
        "10/10 [==============================] - 151s 15s/step - loss: 0.2607 - rpn_class_loss: 0.0066 - rpn_bbox_loss: 0.0570 - mrcnn_class_loss: 0.0316 - mrcnn_bbox_loss: 0.0770 - mrcnn_mask_loss: 0.0887 - val_loss: 0.1617 - val_rpn_class_loss: 0.0094 - val_rpn_bbox_loss: 0.0680 - val_mrcnn_class_loss: 0.0344 - val_mrcnn_bbox_loss: 0.0675 - val_mrcnn_mask_loss: 0.0885\n",
        "Epoch 13/20\n",
        "10/10 [==============================] - 153s 15s/step - loss: 0.3094 - rpn_class_loss: 0.0084 - rpn_bbox_loss: 0.0702 - mrcnn_class_loss: 0.0400 - mrcnn_bbox_loss: 0.0910 - mrcnn_mask_loss: 0.0997 - val_loss: 0.4070 - val_rpn_class_loss: 0.0092 - val_rpn_bbox_loss: 0.0996 - val_mrcnn_class_loss: 0.0354 - val_mrcnn_bbox_loss: 0.0697 - val_mrcnn_mask_loss: 0.0866\n",
        "Epoch 14/20\n",
        "10/10 [==============================] - 153s 15s/step - loss: 0.2638 - rpn_class_loss: 0.0079 - rpn_bbox_loss: 0.0802 - mrcnn_class_loss: 0.0331 - mrcnn_bbox_loss: 0.0649 - mrcnn_mask_loss: 0.0777 - val_loss: 0.5567 - val_rpn_class_loss: 0.0082 - val_rpn_bbox_loss: 0.1569 - val_mrcnn_class_loss: 0.0323 - val_mrcnn_bbox_loss: 0.0912 - val_mrcnn_mask_loss: 0.0849\n",
        "Epoch 15/20\n",
        "10/10 [==============================] - 153s 15s/step - loss: 0.4354 - rpn_class_loss: 0.0083 - rpn_bbox_loss: 0.2060 - mrcnn_class_loss: 0.0337 - mrcnn_bbox_loss: 0.1028 - mrcnn_mask_loss: 0.0846 - val_loss: 0.2369 - val_rpn_class_loss: 0.0084 - val_rpn_bbox_loss: 0.1262 - val_mrcnn_class_loss: 0.0250 - val_mrcnn_bbox_loss: 0.0531 - val_mrcnn_mask_loss: 0.0793\n",
        "Epoch 16/20\n",
        "10/10 [==============================] - 156s 16s/step - loss: 0.2238 - rpn_class_loss: 0.0083 - rpn_bbox_loss: 0.0699 - mrcnn_class_loss: 0.0210 - mrcnn_bbox_loss: 0.0453 - mrcnn_mask_loss: 0.0793 - val_loss: 0.4557 - val_rpn_class_loss: 0.0079 - val_rpn_bbox_loss: 0.1303 - val_mrcnn_class_loss: 0.0283 - val_mrcnn_bbox_loss: 0.0476 - val_mrcnn_mask_loss: 0.0775\n",
        "Epoch 17/20\n",
        "10/10 [==============================] - 152s 15s/step - loss: 0.2593 - rpn_class_loss: 0.0058 - rpn_bbox_loss: 0.1137 - mrcnn_class_loss: 0.0250 - mrcnn_bbox_loss: 0.0391 - mrcnn_mask_loss: 0.0756 - val_loss: 0.1744 - val_rpn_class_loss: 0.0054 - val_rpn_bbox_loss: 0.0637 - val_mrcnn_class_loss: 0.0223 - val_mrcnn_bbox_loss: 0.0403 - val_mrcnn_mask_loss: 0.0749\n",
        "Epoch 18/20\n",
        "10/10 [==============================] - 154s 15s/step - loss: 0.2236 - rpn_class_loss: 0.0071 - rpn_bbox_loss: 0.0745 - mrcnn_class_loss: 0.0260 - mrcnn_bbox_loss: 0.0401 - mrcnn_mask_loss: 0.0759 - val_loss: 0.2324 - val_rpn_class_loss: 0.0072 - val_rpn_bbox_loss: 0.0388 - val_mrcnn_class_loss: 0.0257 - val_mrcnn_bbox_loss: 0.0355 - val_mrcnn_mask_loss: 0.0720\n",
        "Epoch 19/20\n",
        "10/10 [==============================] - 153s 15s/step - loss: 0.1905 - rpn_class_loss: 0.0057 - rpn_bbox_loss: 0.0601 - mrcnn_class_loss: 0.0190 - mrcnn_bbox_loss: 0.0335 - mrcnn_mask_loss: 0.0722 - val_loss: 0.2354 - val_rpn_class_loss: 0.0062 - val_rpn_bbox_loss: 0.0563 - val_mrcnn_class_loss: 0.0234 - val_mrcnn_bbox_loss: 0.0368 - val_mrcnn_mask_loss: 0.0699\n",
        "Epoch 20/20\n",
        "10/10 [==============================] - 154s 15s/step - loss: 0.1928 - rpn_class_loss: 0.0064 - rpn_bbox_loss: 0.0489 - mrcnn_class_loss: 0.0236 - mrcnn_bbox_loss: 0.0376 - mrcnn_mask_loss: 0.0763 - val_loss: 0.1550 - val_rpn_class_loss: 0.0061 - val_rpn_bbox_loss: 0.0901 - val_mrcnn_class_loss: 0.0217 - val_mrcnn_bbox_loss: 0.0339 - val_mrcnn_mask_loss: 0.0676\n",
        "```\n",
        "\n"
      ],
      "metadata": {
        "id": "oE8uRgVJOdij"
      }
    }
  ]
}